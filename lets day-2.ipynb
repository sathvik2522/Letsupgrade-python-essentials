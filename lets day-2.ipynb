{
 "cells": [
  {
   "cell_type": "code",
   "execution_count": 6,
   "metadata": {},
   "outputs": [
    {
     "name": "stdout",
     "output_type": "stream",
     "text": [
      "16\n",
      "25\n",
      "1\n",
      "[0, 1, 2, 3, 4, 5, 6, 7, 8, 9]\n",
      "[1, 2, 3, 4, 5, 6, 7, 8, 9, 10, 10, 1, 1, 1, 22, 25, 'a', 'b', 'c', 'd', 'e', 'f']\n"
     ]
    }
   ],
   "source": [
    "#list default functions\n",
    "l=[1,2,3,4,5,6,7,8,9,10,10,1,1,1,22,25]\n",
    "m=['a','b','c','d','e','f']\n",
    "print(len(l))\n",
    "print(max(l))\n",
    "print(min(l))\n",
    "print(list(range(10)))\n",
    "l.extend(m)\n",
    "print(l)"
   ]
  },
  {
   "cell_type": "code",
   "execution_count": 14,
   "metadata": {},
   "outputs": [
    {
     "name": "stdout",
     "output_type": "stream",
     "text": [
      "{'guna': 100, 'sekhar': 97, 'jonsnow': 75, 'tyrion': 99, 'stark': 85}\n",
      "75\n",
      "NULL\n",
      "None\n",
      "dict_items([('guna', 100), ('sekhar', 97), ('jonsnow', 75), ('tyrion', 99), ('stark', 85), ('danaerious', 'NULL'), ('targarean', 94)])\n"
     ]
    }
   ],
   "source": [
    "#dictionary\n",
    "r={'guna':100,'sekhar':97,'jonsnow':75,'tyrion':99,'stark':85}\n",
    "print(r.copy())\n",
    "print(r.get('jonsnow'))\n",
    "print(r.setdefault('danaerious','NULL'))\n",
    "print(r.update({'targarean':94}))\n",
    "print(r.items())"
   ]
  },
  {
   "cell_type": "code",
   "execution_count": 15,
   "metadata": {},
   "outputs": [
    {
     "name": "stdout",
     "output_type": "stream",
     "text": [
      "{1, 2, 3, 4, 5, 6, 7, 8, 9, 10, 11, 12, 13, 14, 15, 16}\n",
      "{3, 7, 9, 10, 11, 12, 13, 14, 15, 16}\n",
      "{2, 3, 4, 5, 6, 7, 8, 9, 10, 11, 12, 13, 14, 15, 16}\n",
      "{2, 3, 4, 5, 6, 7, 8, 9, 11, 12, 13, 14, 15, 16}\n",
      "{1, 3, 7, 40, 9, 11, 12, 45, 13, 14, 15, 16, 89}\n"
     ]
    }
   ],
   "source": [
    "#sets\n",
    "s={1,2,3,4,5,6,7,8,9,10,11,12,13,14,15}\n",
    "t={5,1,2,8,6,4,40,4,45,8,89}\n",
    "s.add(16)\n",
    "print(s)\n",
    "z=s.difference(t)\n",
    "print(z)\n",
    "s.pop()\n",
    "print(s)\n",
    "s.remove(10)\n",
    "print(s)\n",
    "y=s.symmetric_difference(t)\n",
    "print(y)"
   ]
  },
  {
   "cell_type": "code",
   "execution_count": 18,
   "metadata": {},
   "outputs": [
    {
     "name": "stdout",
     "output_type": "stream",
     "text": [
      "('a', 'b', 'c', 1, 2, 3, 1, 1, 1, 2, 2, 3)\n",
      "4\n",
      "0\n",
      "9\n"
     ]
    }
   ],
   "source": [
    "#tuple\n",
    "tuple1 = (\"a\", \"b\" , \"c\")\n",
    "tuple2 = (1, 2, 3,1,1,1,2,2,3)\n",
    "\n",
    "tuple3 = tuple1 + tuple2\n",
    "print(tuple3)\n",
    "print(tuple2.count(1))\n",
    "print(tuple2.index(1))\n",
    "print(len(tuple2))"
   ]
  },
  {
   "cell_type": "code",
   "execution_count": 27,
   "metadata": {},
   "outputs": [
    {
     "name": "stdout",
     "output_type": "stream",
     "text": [
      "3\n",
      "Jonsnow Danaerious Tyrrion Cersei Nedstark Arya Sansa Ramsay Gendry\n",
      "jonsnow danaerious tyrrion cersei nedstark arya sansa ramsay gendry\n",
      "['jonsnow', 'danaerious', 'tyrrion', 'cersei', 'nedstark', 'arya', 'sansa', 'ramsay', 'gendry']\n",
      "Jonsnow danaerious tyrrion cersei nedstark arya sansa ramsay gendry\n"
     ]
    }
   ],
   "source": [
    "#string\n",
    "a='jonsnow danaerious tyrrion cersei nedstark arya sansa ramsay gendry'\n",
    "print(a.count('d'))\n",
    "print(a.title())\n",
    "print(a.lower())\n",
    "print(a.split())\n",
    "print(a.capitalize())"
   ]
  },
  {
   "cell_type": "code",
   "execution_count": null,
   "metadata": {},
   "outputs": [],
   "source": []
  }
 ],
 "metadata": {
  "kernelspec": {
   "display_name": "Python 3",
   "language": "python",
   "name": "python3"
  },
  "language_info": {
   "codemirror_mode": {
    "name": "ipython",
    "version": 3
   },
   "file_extension": ".py",
   "mimetype": "text/x-python",
   "name": "python",
   "nbconvert_exporter": "python",
   "pygments_lexer": "ipython3",
   "version": "3.7.6"
  }
 },
 "nbformat": 4,
 "nbformat_minor": 4
}
