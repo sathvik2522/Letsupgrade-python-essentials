{
 "cells": [
  {
   "cell_type": "code",
   "execution_count": null,
   "metadata": {},
   "outputs": [],
   "source": [
    "#armstrong\n",
    "def arm(m):\n",
    "    s=0\n",
    "    n=m\n",
    "    while(n!=0):\n",
    "        r=n%10\n",
    "        s=s+r ** 3\n",
    "        n=n//10\n",
    "    if(s==m):\n",
    "        return True\n",
    "    else:\n",
    "        return False\n",
    "for i in range(10420000,702648265):\n",
    "    if(arm(i)==True):\n",
    "        print(i)\n",
    "        break"
   ]
  },
  {
   "cell_type": "code",
   "execution_count": null,
   "metadata": {},
   "outputs": [],
   "source": []
  }
 ],
 "metadata": {
  "kernelspec": {
   "display_name": "Python 3",
   "language": "python",
   "name": "python3"
  },
  "language_info": {
   "codemirror_mode": {
    "name": "ipython",
    "version": 3
   },
   "file_extension": ".py",
   "mimetype": "text/x-python",
   "name": "python",
   "nbconvert_exporter": "python",
   "pygments_lexer": "ipython3",
   "version": "3.7.6"
  }
 },
 "nbformat": 4,
 "nbformat_minor": 4
}
