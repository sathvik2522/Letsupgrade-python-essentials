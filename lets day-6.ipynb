{
 "cells": [
  {
   "cell_type": "code",
   "execution_count": 31,
   "metadata": {},
   "outputs": [],
   "source": [
    "class bank():\n",
    "    def __init__(self,ownerName,balance):\n",
    "        self.ownerName=ownerName\n",
    "        self.balance=balance\n",
    "    def withdraw(self,amount):\n",
    "        if(amount<=self.balance):\n",
    "            self.balance=self.balance-amount\n",
    "            print(\"---Amount withdrawn : \",amount)\n",
    "            print(\"---*** your balance is: \",self.balance)\n",
    "        else:\n",
    "            print(\"\\n-----***  You do not have sufficient balance to do this transcation  ***-----\\n\")\n",
    "            print(\"---*** your balance is: \",self.balance)\n",
    "    def deposit(self,amount):\n",
    "        self.balance+=amount\n",
    "        print(\"---*** your balance is: \",self.balance)"
   ]
  },
  {
   "cell_type": "code",
   "execution_count": 32,
   "metadata": {},
   "outputs": [],
   "source": [
    "c1=bank('guna',100000)\n",
    "c2=bank('sekhar',300000)\n",
    "c3=bank('sai',400000)"
   ]
  },
  {
   "cell_type": "code",
   "execution_count": 33,
   "metadata": {},
   "outputs": [
    {
     "name": "stdout",
     "output_type": "stream",
     "text": [
      "---*** your balance is:  110000\n"
     ]
    }
   ],
   "source": [
    "c1.deposit(10000)"
   ]
  },
  {
   "cell_type": "code",
   "execution_count": 34,
   "metadata": {},
   "outputs": [
    {
     "name": "stdout",
     "output_type": "stream",
     "text": [
      "\n",
      "-----***  You do not have sufficient balance to do this transcation  ***-----\n",
      "\n",
      "---*** your balance is:  110000\n"
     ]
    }
   ],
   "source": [
    "c1.withdraw(200000)"
   ]
  },
  {
   "cell_type": "code",
   "execution_count": 35,
   "metadata": {},
   "outputs": [
    {
     "name": "stdout",
     "output_type": "stream",
     "text": [
      "---Amount withdrawn :  20000\n",
      "---*** your balance is:  280000\n"
     ]
    }
   ],
   "source": [
    "c2.withdraw(20000)"
   ]
  },
  {
   "cell_type": "code",
   "execution_count": 47,
   "metadata": {},
   "outputs": [],
   "source": [
    "import math\n",
    "class cone():\n",
    "    def __init__(self,radius,height):\n",
    "        self.radius=radius\n",
    "        self.height=height\n",
    "    def volume(self):\n",
    "        vol=(1.0/3)*math.pi*(self.radius**2)*self.height\n",
    "        print(\"Volume of cone:\",vol)\n",
    "    def surfarea(self):\n",
    "        base_area=math.pi*(self.radius**2)\n",
    "        side_area=math.pi*self.radius*math.sqrt((self.radius**2)+(self.height**2))\n",
    "        print(\"Base area: \",base_area)\n",
    "        print(\"Side area: \",side_area)"
   ]
  },
  {
   "cell_type": "code",
   "execution_count": 48,
   "metadata": {},
   "outputs": [],
   "source": [
    "a=cone(5.0,15.0)\n",
    "b=cone(7.0,25.0)\n",
    "c=cone(8.0,22.7)"
   ]
  },
  {
   "cell_type": "code",
   "execution_count": 49,
   "metadata": {},
   "outputs": [
    {
     "name": "stdout",
     "output_type": "stream",
     "text": [
      "Volume of cone: 392.6990816987241\n"
     ]
    }
   ],
   "source": [
    "a.volume()"
   ]
  },
  {
   "cell_type": "code",
   "execution_count": 50,
   "metadata": {},
   "outputs": [
    {
     "name": "stdout",
     "output_type": "stream",
     "text": [
      "Base area:  78.53981633974483\n",
      "Side area:  248.36470664490253\n"
     ]
    }
   ],
   "source": [
    "a.surfarea()"
   ]
  },
  {
   "cell_type": "code",
   "execution_count": 51,
   "metadata": {},
   "outputs": [
    {
     "name": "stdout",
     "output_type": "stream",
     "text": [
      "Volume of cone: 1282.8170002158322\n"
     ]
    }
   ],
   "source": [
    "b.volume()"
   ]
  },
  {
   "cell_type": "code",
   "execution_count": 52,
   "metadata": {},
   "outputs": [
    {
     "name": "stdout",
     "output_type": "stream",
     "text": [
      "Base area:  153.93804002589985\n",
      "Side area:  570.9234230178134\n"
     ]
    }
   ],
   "source": [
    "b.surfarea()"
   ]
  },
  {
   "cell_type": "code",
   "execution_count": null,
   "metadata": {},
   "outputs": [],
   "source": []
  }
 ],
 "metadata": {
  "kernelspec": {
   "display_name": "Python 3",
   "language": "python",
   "name": "python3"
  },
  "language_info": {
   "codemirror_mode": {
    "name": "ipython",
    "version": 3
   },
   "file_extension": ".py",
   "mimetype": "text/x-python",
   "name": "python",
   "nbconvert_exporter": "python",
   "pygments_lexer": "ipython3",
   "version": "3.7.6"
  }
 },
 "nbformat": 4,
 "nbformat_minor": 4
}
